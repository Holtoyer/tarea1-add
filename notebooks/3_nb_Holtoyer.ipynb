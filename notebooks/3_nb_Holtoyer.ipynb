{
 "cells": [
  {
   "cell_type": "code",
   "execution_count": 1,
   "id": "1cf368a5",
   "metadata": {},
   "outputs": [],
   "source": [
    "import pandas as pd\n",
    "import os\n",
    "import numpy as np"
   ]
  },
  {
   "cell_type": "code",
   "execution_count": 2,
   "id": "d3c59667",
   "metadata": {},
   "outputs": [],
   "source": [
    "#Veo en que directorio para las rutas relativas, por si cambio de ruta a posterior\n",
    "path = os.getcwd()\n",
    "\n",
    "#Me voy a la carpeta anterior\n",
    "path = path.replace('notebooks','')\n",
    "\n",
    "#Me posiciono donde se encuentran los datos\n",
    "path += 'data\\\\processed\\\\' "
   ]
  },
  {
   "cell_type": "code",
   "execution_count": 3,
   "id": "31522d77",
   "metadata": {},
   "outputs": [],
   "source": [
    "#Cargo la información\n",
    "df2019 = pd.read_csv(path+'d2019.csv', delimiter =',')"
   ]
  },
  {
   "cell_type": "code",
   "execution_count": 4,
   "id": "fdbdbfd0",
   "metadata": {},
   "outputs": [],
   "source": [
    "#Cargo la información\n",
    "\n",
    "df2020 = pd.read_csv(path+'d2020.txt', delimiter =' ')"
   ]
  },
  {
   "cell_type": "code",
   "execution_count": 5,
   "id": "bd0d7cec",
   "metadata": {},
   "outputs": [],
   "source": [
    "val_vars = ['1', '2', '3', '4', '5', '6', '7', '8', '9', '10', '11', '12']\n",
    "\n",
    "df_sii = pd.melt(df2019, id_vars = ['year','dia'], value_vars = val_vars,  var_name = 'mes',  value_name = 'valor')\n",
    "\n",
    "df_sii_2020 = pd.melt(df2020, id_vars = ['year','dia'], value_vars = val_vars,  var_name = 'mes',  value_name = 'valor')"
   ]
  },
  {
   "cell_type": "code",
   "execution_count": 6,
   "id": "a37ff8ab",
   "metadata": {},
   "outputs": [],
   "source": [
    "df_sii = df_sii.append(df_sii_2020, ignore_index = True)"
   ]
  },
  {
   "cell_type": "code",
   "execution_count": 7,
   "id": "e4b5d3bf",
   "metadata": {},
   "outputs": [],
   "source": [
    "df_sii = df_sii[['year', 'mes', 'dia', 'valor']]"
   ]
  },
  {
   "cell_type": "code",
   "execution_count": 8,
   "id": "5871924e",
   "metadata": {},
   "outputs": [
    {
     "name": "stdout",
     "output_type": "stream",
     "text": [
      "mes\n",
      "1     724.854773\n",
      "10    753.867907\n",
      "11    769.540976\n",
      "12    752.561750\n",
      "2     726.342000\n",
      "3     755.523488\n",
      "4     760.389048\n",
      "5     753.659500\n",
      "6     744.299024\n",
      "7     735.394318\n",
      "8     749.182619\n",
      "9     748.036154\n",
      "Name: valor, dtype: float64\n"
     ]
    }
   ],
   "source": [
    "print(df_sii.groupby(['mes'], as_index=True)['valor'].mean())\n",
    "\n"
   ]
  },
  {
   "cell_type": "code",
   "execution_count": 9,
   "id": "d7c67468",
   "metadata": {},
   "outputs": [
    {
     "name": "stdout",
     "output_type": "stream",
     "text": [
      "                mean\n",
      "year mes            \n",
      "2019 1    677.061818\n",
      "     10   721.032273\n",
      "     11   776.530000\n",
      "     12   770.390500\n",
      "     2    656.304500\n",
      "     3    667.678571\n",
      "     4    667.399048\n",
      "     5    692.003810\n",
      "     6    692.409000\n",
      "     7    686.059545\n",
      "     8    713.703333\n",
      "     9    718.442222\n",
      "2020 1    772.647727\n",
      "     10   788.267143\n",
      "     11   762.884762\n",
      "     12   734.733000\n",
      "     2    796.379500\n",
      "     3    839.375455\n",
      "     4    853.379048\n",
      "     5    821.805263\n",
      "     6    793.718095\n",
      "     7    784.729091\n",
      "     8    784.661905\n",
      "     9    773.402381\n"
     ]
    }
   ],
   "source": [
    "print(df_sii.groupby(['year', 'mes'], as_index=False)['valor'].agg(['mean']))"
   ]
  },
  {
   "cell_type": "markdown",
   "id": "f64863b7",
   "metadata": {},
   "source": [
    "Compara ambos resultados. ¿Qué cambia al usar as_index = False? ¿Al agrupar por mes, con respecto a [year,mes]?\n",
    "\n",
    "Al usar la opción as_index = False al agrupar por mes no deja el mes como indice, mientras que al usar agg deja year y mes como indices aunque cambie la opción as_index a False. Además cuando se agrupa por mes columna de resultado no tiene nombre."
   ]
  },
  {
   "cell_type": "code",
   "execution_count": 10,
   "id": "954eb559",
   "metadata": {},
   "outputs": [],
   "source": [
    "df_sii['mes'] = pd.to_numeric(df_sii['mes'])\n"
   ]
  },
  {
   "cell_type": "code",
   "execution_count": 11,
   "id": "aabe1d82",
   "metadata": {},
   "outputs": [
    {
     "name": "stdout",
     "output_type": "stream",
     "text": [
      "<class 'pandas.core.frame.DataFrame'>\n",
      "RangeIndex: 744 entries, 0 to 743\n",
      "Data columns (total 4 columns):\n",
      " #   Column  Non-Null Count  Dtype  \n",
      "---  ------  --------------  -----  \n",
      " 0   year    744 non-null    int64  \n",
      " 1   mes     744 non-null    int64  \n",
      " 2   dia     744 non-null    int64  \n",
      " 3   valor   499 non-null    float64\n",
      "dtypes: float64(1), int64(3)\n",
      "memory usage: 23.4 KB\n"
     ]
    }
   ],
   "source": [
    "df_sii.info()"
   ]
  },
  {
   "cell_type": "code",
   "execution_count": 12,
   "id": "2f551258",
   "metadata": {},
   "outputs": [],
   "source": [
    "enero_2019 = df_sii[(df_sii['year']==2019)&(df_sii['mes']==1)]\n",
    "\n",
    "enero_2019 = enero_2019.to_numpy()"
   ]
  },
  {
   "cell_type": "code",
   "execution_count": 13,
   "id": "b9febed2",
   "metadata": {},
   "outputs": [
    {
     "name": "stdout",
     "output_type": "stream",
     "text": [
      "2019.0\n",
      "1.0\n",
      "7.0\n"
     ]
    }
   ],
   "source": [
    "\n",
    "\n",
    "for i in range(enero_2019.shape[0]):\n",
    "     if ((np.isnan(enero_2019[i,3])) & (np.isnan(enero_2019[i+1,3]))): \n",
    "            year_l = enero_2019[i+2,0]\n",
    "            mes_l = enero_2019[i+2,1]\n",
    "            dia_l = enero_2019[i+2,2]\n",
    "            break\n",
    "            \n",
    "            \n",
    "print(year_l)\n",
    "print(mes_l)\n",
    "print(dia_l)\n"
   ]
  },
  {
   "cell_type": "code",
   "execution_count": 14,
   "id": "02c46942",
   "metadata": {},
   "outputs": [],
   "source": [
    "\n",
    "path = path.replace('processed','raw')\n"
   ]
  },
  {
   "cell_type": "code",
   "execution_count": 15,
   "id": "81b624bc",
   "metadata": {},
   "outputs": [],
   "source": [
    "df_bc_80 = pd.read_excel(path+'dolar_observado_bc.xlsx', sheet_name='80', skiprows=2, dtype={'Periodo':str })\n",
    "df_bc_90 = pd.read_excel(path+'dolar_observado_bc.xlsx', sheet_name='90', skiprows=2, dtype={'Periodo':str })\n",
    "df_bc_00 = pd.read_excel(path+'dolar_observado_bc.xlsx', sheet_name='00', skiprows=2, dtype={'Periodo':str })\n",
    "df_bc_10 = pd.read_excel(path+'dolar_observado_bc.xlsx', sheet_name='10', skiprows=2, dtype={'Periodo':str })\n",
    "df_bc_20 = pd.read_excel(path+'dolar_observado_bc.xlsx', sheet_name='20', skiprows=2, dtype={'Periodo':str })"
   ]
  },
  {
   "cell_type": "code",
   "execution_count": 16,
   "id": "b7d51d81",
   "metadata": {},
   "outputs": [],
   "source": [
    "df_bc_all = df_bc_80.append(df_bc_90, ignore_index = True)\n",
    "df_bc_all = df_bc_all.append(df_bc_00, ignore_index = True)\n",
    "df_bc_all = df_bc_all.append(df_bc_10, ignore_index = True)\n",
    "df_bc_all = df_bc_all.append(df_bc_20, ignore_index = True)"
   ]
  },
  {
   "cell_type": "code",
   "execution_count": 17,
   "id": "d359230f",
   "metadata": {},
   "outputs": [],
   "source": [
    "df_bc_all['Periodo'] = df_bc_all['Periodo'].astype(str).str[:10]\n",
    "\n",
    "df_bc_all[['year', 'mes', 'dia']] = df_bc_all['Periodo'].str.split(\"-\", expand = True)\n",
    "\n"
   ]
  },
  {
   "cell_type": "code",
   "execution_count": 18,
   "id": "c1f1b1e3",
   "metadata": {},
   "outputs": [
    {
     "data": {
      "text/plain": [
       "array(['1982', '1983', '1984', '1985', '1986', '1987', '1988', '1989',\n",
       "       '1990', '1991', '1992', '1993', '1994', '1995', '1996', '1997',\n",
       "       '1998', '1999', '2000', '2001', '2002', '2003', '2004', '2005',\n",
       "       '2006', '2007', '2008', '2009', '2010', '2011', '2012', '2013',\n",
       "       '2014', '2015', '2016', '2017', '2018', '2019', '2020', '2021',\n",
       "       '2022'], dtype=object)"
      ]
     },
     "execution_count": 18,
     "metadata": {},
     "output_type": "execute_result"
    }
   ],
   "source": [
    "years = df_bc_all['year'].unique()\n",
    "\n",
    "years"
   ]
  },
  {
   "cell_type": "code",
   "execution_count": 19,
   "id": "0cd2f9c3",
   "metadata": {},
   "outputs": [],
   "source": [
    "path = path.replace('raw','processed')\n",
    "path += 'dolar_bc_year\\\\'\n"
   ]
  },
  {
   "cell_type": "code",
   "execution_count": 20,
   "id": "83e15614",
   "metadata": {},
   "outputs": [],
   "source": [
    "for i in range(len(years)):\n",
    "    (df_bc_all[df_bc_all['year'] == years[i]]).to_csv(path+'dolar_bc_'+ years[i] +'.csv', sep=',', encoding='utf-8') \n"
   ]
  },
  {
   "cell_type": "code",
   "execution_count": 21,
   "id": "5c1fcc61",
   "metadata": {},
   "outputs": [],
   "source": [
    "df_bc_2019_2020 = df_bc_all[(df_bc_all['year'] == '2019')|(df_bc_all['year'] == '2020')].copy()"
   ]
  },
  {
   "cell_type": "code",
   "execution_count": 22,
   "id": "a095fadc",
   "metadata": {},
   "outputs": [],
   "source": [
    "df_bc_2019_2020['year'] = pd.to_numeric(df_bc_2019_2020['year'])\n",
    "df_bc_2019_2020['mes'] = pd.to_numeric(df_bc_2019_2020['mes'])\n",
    "df_bc_2019_2020['dia'] = pd.to_numeric(df_bc_2019_2020['dia'])\n",
    "\n"
   ]
  },
  {
   "cell_type": "code",
   "execution_count": 23,
   "id": "f85453a8",
   "metadata": {},
   "outputs": [
    {
     "name": "stderr",
     "output_type": "stream",
     "text": [
      "C:\\Users\\asus\\Anaconda3\\lib\\site-packages\\ipykernel_launcher.py:1: FutureWarning: The default value of regex will change from True to False in a future version.\n",
      "  \"\"\"Entry point for launching an IPython kernel.\n"
     ]
    }
   ],
   "source": [
    "df_bc_2019_2020.columns = df_bc_2019_2020.columns.str.replace('1.Dólar observado', 'valor')"
   ]
  },
  {
   "cell_type": "code",
   "execution_count": 24,
   "id": "28c60e78",
   "metadata": {},
   "outputs": [],
   "source": [
    "df_bc_2019_2020 = df_bc_2019_2020[['year', 'mes', 'dia', 'valor']]\n",
    "\n",
    "df_sii = df_sii[['year', 'mes', 'dia', 'valor']]\n",
    "\n",
    "df_sii['mes'] = pd.to_numeric(df_sii['mes'])"
   ]
  },
  {
   "cell_type": "code",
   "execution_count": 25,
   "id": "117afe9c",
   "metadata": {},
   "outputs": [
    {
     "name": "stdout",
     "output_type": "stream",
     "text": [
      "<class 'pandas.core.frame.DataFrame'>\n",
      "Int64Index: 731 entries, 13294 to 14024\n",
      "Data columns (total 4 columns):\n",
      " #   Column  Non-Null Count  Dtype  \n",
      "---  ------  --------------  -----  \n",
      " 0   year    731 non-null    int64  \n",
      " 1   mes     731 non-null    int64  \n",
      " 2   dia     731 non-null    int64  \n",
      " 3   valor   499 non-null    float64\n",
      "dtypes: float64(1), int64(3)\n",
      "memory usage: 28.6 KB\n",
      "None\n",
      "<class 'pandas.core.frame.DataFrame'>\n",
      "RangeIndex: 744 entries, 0 to 743\n",
      "Data columns (total 4 columns):\n",
      " #   Column  Non-Null Count  Dtype  \n",
      "---  ------  --------------  -----  \n",
      " 0   year    744 non-null    int64  \n",
      " 1   mes     744 non-null    int64  \n",
      " 2   dia     744 non-null    int64  \n",
      " 3   valor   499 non-null    float64\n",
      "dtypes: float64(1), int64(3)\n",
      "memory usage: 23.4 KB\n",
      "None\n"
     ]
    }
   ],
   "source": [
    "print(df_bc_2019_2020.info())\n",
    "print(df_sii.info())"
   ]
  },
  {
   "cell_type": "markdown",
   "id": "bdf54af6",
   "metadata": {},
   "source": [
    "Es distinta la cantidad de datos entre los dos dataframe porque el dataframe df_sii tiene 31 datos por mes mientras que el df_bc_2019_2020 tiene la cantidad de dias del mes. como se ve a continuación al agrupar por año y mes."
   ]
  },
  {
   "cell_type": "code",
   "execution_count": 26,
   "id": "f3ab8c1d",
   "metadata": {},
   "outputs": [
    {
     "name": "stdout",
     "output_type": "stream",
     "text": [
      "year  mes\n",
      "2019  1      31\n",
      "      2      28\n",
      "      3      31\n",
      "      4      30\n",
      "      5      31\n",
      "      6      30\n",
      "      7      31\n",
      "      8      31\n",
      "      9      30\n",
      "      10     31\n",
      "      11     30\n",
      "      12     31\n",
      "2020  1      31\n",
      "      2      29\n",
      "      3      31\n",
      "      4      30\n",
      "      5      31\n",
      "      6      30\n",
      "      7      31\n",
      "      8      31\n",
      "      9      30\n",
      "      10     31\n",
      "      11     30\n",
      "      12     31\n",
      "Name: mes, dtype: int64\n",
      "year  mes\n",
      "2019  1      31\n",
      "      2      31\n",
      "      3      31\n",
      "      4      31\n",
      "      5      31\n",
      "      6      31\n",
      "      7      31\n",
      "      8      31\n",
      "      9      31\n",
      "      10     31\n",
      "      11     31\n",
      "      12     31\n",
      "2020  1      31\n",
      "      2      31\n",
      "      3      31\n",
      "      4      31\n",
      "      5      31\n",
      "      6      31\n",
      "      7      31\n",
      "      8      31\n",
      "      9      31\n",
      "      10     31\n",
      "      11     31\n",
      "      12     31\n",
      "Name: mes, dtype: int64\n"
     ]
    }
   ],
   "source": [
    "print(df_bc_2019_2020.groupby(['year','mes'], as_index=True)['mes'].count())\n",
    "print(df_sii.groupby(['year','mes'], as_index=True)['mes'].count())"
   ]
  }
 ],
 "metadata": {
  "kernelspec": {
   "display_name": "Python 3 (ipykernel)",
   "language": "python",
   "name": "python3"
  },
  "language_info": {
   "codemirror_mode": {
    "name": "ipython",
    "version": 3
   },
   "file_extension": ".py",
   "mimetype": "text/x-python",
   "name": "python",
   "nbconvert_exporter": "python",
   "pygments_lexer": "ipython3",
   "version": "3.7.3"
  }
 },
 "nbformat": 4,
 "nbformat_minor": 5
}
